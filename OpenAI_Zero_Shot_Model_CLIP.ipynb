{
  "nbformat": 4,
  "nbformat_minor": 0,
  "metadata": {
    "colab": {
      "provenance": [],
      "authorship_tag": "ABX9TyMU5bk+PgNV24uCPuGarMew",
      "include_colab_link": true
    },
    "kernelspec": {
      "name": "python3",
      "display_name": "Python 3"
    },
    "language_info": {
      "name": "python"
    }
  },
  "cells": [
    {
      "cell_type": "markdown",
      "metadata": {
        "id": "view-in-github",
        "colab_type": "text"
      },
      "source": [
        "<a href=\"https://colab.research.google.com/github/roscoekerby/google-colab/blob/main/OpenAI_Zero_Shot_Model_CLIP.ipynb\" target=\"_parent\"><img src=\"https://colab.research.google.com/assets/colab-badge.svg\" alt=\"Open In Colab\"/></a>"
      ]
    },
    {
      "cell_type": "code",
      "source": [
        "!pip install transformers\n",
        "#!pip install clip\n",
        "!pip3 install clip-by-openai"
      ],
      "metadata": {
        "colab": {
          "base_uri": "https://localhost:8080/"
        },
        "id": "_2STc1xeMKNO",
        "outputId": "e19a6d30-c456-4f87-cbb1-fb69e504dc80"
      },
      "execution_count": 48,
      "outputs": [
        {
          "output_type": "stream",
          "name": "stdout",
          "text": [
            "Looking in indexes: https://pypi.org/simple, https://us-python.pkg.dev/colab-wheels/public/simple/\n",
            "Requirement already satisfied: transformers in /usr/local/lib/python3.7/dist-packages (4.22.2)\n",
            "Requirement already satisfied: tokenizers!=0.11.3,<0.13,>=0.11.1 in /usr/local/lib/python3.7/dist-packages (from transformers) (0.12.1)\n",
            "Requirement already satisfied: requests in /usr/local/lib/python3.7/dist-packages (from transformers) (2.23.0)\n",
            "Requirement already satisfied: importlib-metadata in /usr/local/lib/python3.7/dist-packages (from transformers) (4.12.0)\n",
            "Requirement already satisfied: pyyaml>=5.1 in /usr/local/lib/python3.7/dist-packages (from transformers) (6.0)\n",
            "Requirement already satisfied: tqdm>=4.27 in /usr/local/lib/python3.7/dist-packages (from transformers) (4.64.1)\n",
            "Requirement already satisfied: huggingface-hub<1.0,>=0.9.0 in /usr/local/lib/python3.7/dist-packages (from transformers) (0.10.0)\n",
            "Requirement already satisfied: packaging>=20.0 in /usr/local/lib/python3.7/dist-packages (from transformers) (21.3)\n",
            "Requirement already satisfied: numpy>=1.17 in /usr/local/lib/python3.7/dist-packages (from transformers) (1.21.6)\n",
            "Requirement already satisfied: regex!=2019.12.17 in /usr/local/lib/python3.7/dist-packages (from transformers) (2022.6.2)\n",
            "Requirement already satisfied: filelock in /usr/local/lib/python3.7/dist-packages (from transformers) (3.8.0)\n",
            "Requirement already satisfied: typing-extensions>=3.7.4.3 in /usr/local/lib/python3.7/dist-packages (from huggingface-hub<1.0,>=0.9.0->transformers) (4.1.1)\n",
            "Requirement already satisfied: pyparsing!=3.0.5,>=2.0.2 in /usr/local/lib/python3.7/dist-packages (from packaging>=20.0->transformers) (3.0.9)\n",
            "Requirement already satisfied: zipp>=0.5 in /usr/local/lib/python3.7/dist-packages (from importlib-metadata->transformers) (3.8.1)\n",
            "Requirement already satisfied: certifi>=2017.4.17 in /usr/local/lib/python3.7/dist-packages (from requests->transformers) (2022.6.15)\n",
            "Requirement already satisfied: idna<3,>=2.5 in /usr/local/lib/python3.7/dist-packages (from requests->transformers) (2.10)\n",
            "Requirement already satisfied: chardet<4,>=3.0.2 in /usr/local/lib/python3.7/dist-packages (from requests->transformers) (3.0.4)\n",
            "Requirement already satisfied: urllib3!=1.25.0,!=1.25.1,<1.26,>=1.21.1 in /usr/local/lib/python3.7/dist-packages (from requests->transformers) (1.24.3)\n",
            "Looking in indexes: https://pypi.org/simple, https://us-python.pkg.dev/colab-wheels/public/simple/\n",
            "Requirement already satisfied: clip-by-openai in /usr/local/lib/python3.7/dist-packages (1.1)\n",
            "Requirement already satisfied: torch<1.7.2,>=1.7.1 in /usr/local/lib/python3.7/dist-packages (from clip-by-openai) (1.7.1)\n",
            "Requirement already satisfied: ftfy in /usr/local/lib/python3.7/dist-packages (from clip-by-openai) (6.1.1)\n",
            "Requirement already satisfied: torchvision==0.8.2 in /usr/local/lib/python3.7/dist-packages (from clip-by-openai) (0.8.2)\n",
            "Requirement already satisfied: tqdm in /usr/local/lib/python3.7/dist-packages (from clip-by-openai) (4.64.1)\n",
            "Requirement already satisfied: regex in /usr/local/lib/python3.7/dist-packages (from clip-by-openai) (2022.6.2)\n",
            "Requirement already satisfied: numpy in /usr/local/lib/python3.7/dist-packages (from torchvision==0.8.2->clip-by-openai) (1.21.6)\n",
            "Requirement already satisfied: pillow>=4.1.1 in /usr/local/lib/python3.7/dist-packages (from torchvision==0.8.2->clip-by-openai) (7.1.2)\n",
            "Requirement already satisfied: typing-extensions in /usr/local/lib/python3.7/dist-packages (from torch<1.7.2,>=1.7.1->clip-by-openai) (4.1.1)\n",
            "Requirement already satisfied: wcwidth>=0.2.5 in /usr/local/lib/python3.7/dist-packages (from ftfy->clip-by-openai) (0.2.5)\n"
          ]
        }
      ]
    },
    {
      "cell_type": "code",
      "execution_count": 97,
      "metadata": {
        "colab": {
          "base_uri": "https://localhost:8080/"
        },
        "id": "-10Uw-vxL-rQ",
        "outputId": "c36b49ef-660a-4de1-aaa7-6bbb5197798f"
      },
      "outputs": [
        {
          "output_type": "stream",
          "name": "stdout",
          "text": [
            "For the input sequence: \"['a mouse', 'a car', 'an animal', 'a human', 'a dog', 'a computer']\"\n",
            "For the human-face.png file, the Zero Shot Model predicted the following 1 number of matches with their scores above the threshold of 0.6:\n",
            "Label: \"a human\" with score 0.600774884223938\n",
            "For the car.png file, the Zero Shot Model predicted the following 1 number of matches with their scores above the threshold of 0.6:\n",
            "Label: \"a car\" with score 0.9485023617744446\n",
            "For the mouse.jpg file, the Zero Shot Model predicted the following 1 number of matches with their scores above the threshold of 0.6:\n",
            "Label: \"a mouse\" with score 0.9569043517112732\n",
            "For the roscoe.jpg file, the Zero Shot Model predicted the following 1 number of matches with their scores above the threshold of 0.6:\n",
            "Label: \"a human\" with score 0.7336633205413818\n",
            "For the cat.png file, the Zero Shot Model predicted the following 1 number of matches with their scores above the threshold of 0.6:\n",
            "Label: \"an animal\" with score 0.7027719020843506\n",
            "For the computer.png file, the Zero Shot Model predicted the following 1 number of matches with their scores above the threshold of 0.6:\n",
            "Label: \"a computer\" with score 0.9984554052352905\n",
            "For the dog.png file, the Zero Shot Model predicted the following 1 number of matches with their scores above the threshold of 0.6:\n",
            "Label: \"a dog\" with score 0.9309540390968323\n"
          ]
        }
      ],
      "source": [
        "import torch\n",
        "import clip\n",
        "from PIL import Image\n",
        "import os \n",
        "\n",
        "local_download_path = os.path.expanduser('/content')\n",
        "device = \"cuda\" if torch.cuda.is_available() else \"cpu\"\n",
        "model, preprocess = clip.load(\"ViT-B/32\", device=device)\n",
        "text_array = [\"a mouse\", \"a car\", \"an animal\", \"a human\", \"a dog\", \"a computer\"]\n",
        "\n",
        "print(\"For the input sequence: \\\"{}\\\"\".format(text_array))\n",
        "\n",
        "for query_file_name in os.listdir(local_download_path):\n",
        "  if query_file_name.endswith(\"png\") or query_file_name.endswith(\"jpg\"): \n",
        "    image = preprocess(Image.open(query_file_name)).unsqueeze(0).to(device)\n",
        "    text = clip.tokenize(text_array).to(device)\n",
        "\n",
        "    with torch.no_grad():\n",
        "        image_features = model.encode_image(image)\n",
        "        text_features = model.encode_text(text)\n",
        "        \n",
        "        logits_per_image, logits_per_text = model(image, text)\n",
        "        probs = logits_per_image.softmax(dim=-1).cpu().numpy()\n",
        "\n",
        "        threshold_count = 0  # number of items that have greater scores than the threshold value\n",
        "        threshold = 0.6 # theshold value\n",
        "        label_index = 0\n",
        "\n",
        "        for x in range(len(probs)):\n",
        "          for y in range(len(probs[x])): \n",
        "            if probs[x][y] > threshold:\n",
        "                threshold_count = threshold_count + 1\n",
        "                label_index = y\n",
        "\n",
        "                print(\"For the {} file, the Zero Shot Model predicted the following {} number of matches with their scores above the threshold of {}:\".format(query_file_name, threshold_count, threshold))\n",
        "                print(\"Label: \\\"{}\\\" with score {}\".format(text_array[label_index], probs[x][y]))  # for some reason it cannot find the whale or mouse - probably no whales or mice in dataset"
      ]
    }
  ]
}