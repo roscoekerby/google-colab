{
  "nbformat": 4,
  "nbformat_minor": 0,
  "metadata": {
    "colab": {
      "provenance": [],
      "authorship_tag": "ABX9TyO1qk7W1wXOmZxc8DXm+DJO",
      "include_colab_link": true
    },
    "kernelspec": {
      "name": "python3",
      "display_name": "Python 3"
    },
    "language_info": {
      "name": "python"
    }
  },
  "cells": [
    {
      "cell_type": "markdown",
      "metadata": {
        "id": "view-in-github",
        "colab_type": "text"
      },
      "source": [
        "<a href=\"https://colab.research.google.com/github/roscoekerby/google-colab/blob/main/Flutter_Package_Autoupdater.ipynb\" target=\"_parent\"><img src=\"https://colab.research.google.com/assets/colab-badge.svg\" alt=\"Open In Colab\"/></a>"
      ]
    },
    {
      "cell_type": "code",
      "execution_count": 1,
      "metadata": {
        "colab": {
          "base_uri": "https://localhost:8080/"
        },
        "id": "UIXJp-xBQ_aS",
        "outputId": "dcdd8a43-fc9e-4518-c2d0-e1efd6b84be2"
      },
      "outputs": [
        {
          "output_type": "stream",
          "name": "stdout",
          "text": [
            "Updated dependencies:\n",
            "camera: ^0.11.0\n",
            "tflite_flutter: ^0.10.4\n",
            "tflite_flutter_helper: ^0.3.1\n",
            "image: ^4.2.0\n"
          ]
        }
      ],
      "source": [
        "import requests\n",
        "from bs4 import BeautifulSoup\n",
        "import re\n",
        "\n",
        "def get_latest_version(package_name):\n",
        "    url = f\"https://pub.dev/packages/{package_name}\"\n",
        "    response = requests.get(url)\n",
        "    if response.status_code == 200:\n",
        "        soup = BeautifulSoup(response.content, 'html.parser')\n",
        "        version_element = soup.find('h1', class_='title')\n",
        "        if version_element:\n",
        "            version_match = re.search(r'\\d+\\.\\d+\\.\\d+', version_element.text)\n",
        "            if version_match:\n",
        "                return version_match.group()\n",
        "    return None\n",
        "\n",
        "# Input dependencies\n",
        "dependencies = \"\"\"\n",
        " camera: ^0.10.0\n",
        "  tflite_flutter: ^0.10.0\n",
        "  tflite_flutter_helper: ^0.3.0\n",
        "  image: ^3.0.0\n",
        "\"\"\"\n",
        "\n",
        "# Process dependencies\n",
        "updated_dependencies = []\n",
        "for line in dependencies.strip().split('\\n'):\n",
        "    package, version = line.split(':')\n",
        "    package = package.strip()\n",
        "    latest_version = get_latest_version(package)\n",
        "    if latest_version:\n",
        "        updated_dependencies.append(f\"{package}: ^{latest_version}\")\n",
        "    else:\n",
        "        updated_dependencies.append(line.strip())\n",
        "\n",
        "# Print updated dependencies\n",
        "print(\"Updated dependencies:\")\n",
        "for dep in updated_dependencies:\n",
        "    print(dep)"
      ]
    },
    {
      "cell_type": "code",
      "source": [
        "len(updated_dependencies)"
      ],
      "metadata": {
        "colab": {
          "base_uri": "https://localhost:8080/"
        },
        "id": "8lQh6cLIREYl",
        "outputId": "35c7c3fc-ad68-471d-c798-f40cd36ea048"
      },
      "execution_count": null,
      "outputs": [
        {
          "output_type": "execute_result",
          "data": {
            "text/plain": [
              "23"
            ]
          },
          "metadata": {},
          "execution_count": 2
        }
      ]
    },
    {
      "cell_type": "code",
      "source": [],
      "metadata": {
        "id": "9Eam1fPCRQT0"
      },
      "execution_count": null,
      "outputs": []
    }
  ]
}